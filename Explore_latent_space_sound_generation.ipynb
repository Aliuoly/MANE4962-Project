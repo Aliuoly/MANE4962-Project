{
  "nbformat": 4,
  "nbformat_minor": 0,
  "metadata": {
    "colab": {
      "provenance": [],
      "machine_shape": "hm"
    },
    "kernelspec": {
      "name": "python3",
      "display_name": "Python 3"
    },
    "language_info": {
      "name": "python"
    },
    "gpuClass": "standard",
    "accelerator": "GPU"
  },
  "cells": [
    {
      "cell_type": "code",
      "source": [
        "import numpy as np\n",
        "import tensorflow as tf\n",
        "from tensorflow import keras\n",
        "from tensorflow.keras import layers\n",
        "from tensorflow.keras import backend as K\n",
        "import os\n",
        "import pickle\n",
        "from tensorflow.keras.initializers import HeNormal\n",
        "import pandas as pd\n",
        "import seaborn as sns\n",
        "import matplotlib.pyplot as plt\n",
        "import pdb\n",
        "\n",
        "from google.colab import drive\n",
        "drive.mount('/content/drive')\n",
        "\n",
        "! pip install tensorflow-addons\n",
        "import tensorflow_addons as tfa"
      ],
      "metadata": {
        "colab": {
          "base_uri": "https://localhost:8080/"
        },
        "id": "fOdp4YCpg1hD",
        "outputId": "0d5ab447-b0f7-42a8-f86c-22202b0cf2b8"
      },
      "execution_count": null,
      "outputs": [
        {
          "output_type": "stream",
          "name": "stdout",
          "text": [
            "Drive already mounted at /content/drive; to attempt to forcibly remount, call drive.mount(\"/content/drive\", force_remount=True).\n",
            "Looking in indexes: https://pypi.org/simple, https://us-python.pkg.dev/colab-wheels/public/simple/\n",
            "Requirement already satisfied: tensorflow-addons in /usr/local/lib/python3.9/dist-packages (0.20.0)\n",
            "Requirement already satisfied: packaging in /usr/local/lib/python3.9/dist-packages (from tensorflow-addons) (23.1)\n",
            "Requirement already satisfied: typeguard<3.0.0,>=2.7 in /usr/local/lib/python3.9/dist-packages (from tensorflow-addons) (2.13.3)\n"
          ]
        },
        {
          "output_type": "stream",
          "name": "stderr",
          "text": [
            "/usr/local/lib/python3.9/dist-packages/tensorflow_addons/utils/tfa_eol_msg.py:23: UserWarning: \n",
            "\n",
            "TensorFlow Addons (TFA) has ended development and introduction of new features.\n",
            "TFA has entered a minimal maintenance and release mode until a planned end of life in May 2024.\n",
            "Please modify downstream libraries to take dependencies from other repositories in our TensorFlow community (e.g. Keras, Keras-CV, and Keras-NLP). \n",
            "\n",
            "For more information see: https://github.com/tensorflow/addons/issues/2807 \n",
            "\n",
            "  warnings.warn(\n"
          ]
        }
      ]
    },
    {
      "cell_type": "code",
      "source": [
        "class Sampling(layers.Layer):\n",
        "    \"\"\"Uses (z_mean, z_log_var) to sample z, the vector encoding a digit.\"\"\"\n",
        "\n",
        "    def call(self, inputs):\n",
        "        z_mean, z_log_var = inputs\n",
        "        batch = tf.shape(z_mean)[0]\n",
        "        dim = tf.shape(z_mean)[1]\n",
        "        epsilon = tf.keras.backend.random_normal(shape=(batch, dim))\n",
        "        return z_mean + tf.exp(0.5 * z_log_var) * epsilon"
      ],
      "metadata": {
        "id": "eIcHl4Img4v1"
      },
      "execution_count": null,
      "outputs": []
    },
    {
      "cell_type": "code",
      "source": [
        "def build_encoder_decoder(input_shape, conv_filters, conv_kernels, conv_strides, latent_dim, pre_latent_dense_size_factor=None, decoder_activation=\"sigmoid\",dropout_rate=0.1,mode = \"VAE\"):\n",
        "    encoder_inputs = keras.Input(shape=input_shape, name=\"encoder_input\")\n",
        "    num_layers = len(conv_filters)\n",
        "    print(\"buildmode\")\n",
        "    print(mode)\n",
        "    # Encoder\n",
        "    residual_connections = []\n",
        "    for layer in range(num_layers):\n",
        "        if layer == 0:\n",
        "            x = layers.Conv2D(conv_filters[layer], conv_kernels[layer], strides=conv_strides[layer], padding=\"same\", name=f\"encoder_conv_layer_{layer+1}\")(encoder_inputs)\n",
        "        else:\n",
        "            x = layers.Conv2D(conv_filters[layer], conv_kernels[layer], strides=conv_strides[layer], padding=\"same\", name=f\"encoder_conv_layer_{layer+1}\")(x)\n",
        "        \n",
        "        x = layers.LeakyReLU(name=f\"encoder_LeakyReLU_{layer+1}\")(x)\n",
        "        x = layers.Dropout(dropout_rate, name=f\"encoder_dropout_{layer+1}\")(x)\n",
        "        x = layers.BatchNormalization(name=f\"encoder_BN_{layer+1}\")(x)\n",
        "\n",
        "        if layer % 2 == 0:\n",
        "            residual_connections.append(x)\n",
        "\n",
        "        if layer % 2 == 1:\n",
        "            x_residual = layers.Conv2D(conv_filters[layer], 1, strides=conv_strides[layer], padding=\"same\", name=f\"encoder_residual_conv_{layer}\")(residual_connections.pop())\n",
        "            x = layers.Add(name=f\"encoder_residual_add_{layer}\")([x, x_residual])\n",
        "\n",
        "    shape_before_bottleneck = K.int_shape(x)[1:]\n",
        "    num_neurons = np.prod(shape_before_bottleneck)\n",
        "    x = layers.Flatten(name=\"encoder_flatten\")(x)\n",
        "    x = layers.LeakyReLU(name=\"encoder_flattened_LeakyReLU\")(x)\n",
        "    x = layers.Dropout(dropout_rate, name=f\"encoder_dropout_flatten\")(x)\n",
        "\n",
        "    if pre_latent_dense_size_factor:\n",
        "        x = layers.Dense(latent_dim * pre_latent_dense_size_factor, name=\"encoder_pre_latent_dense\")(x)\n",
        "        x = layers.LeakyReLU(name=\"encoder_dense_LeakyReLU\")(x)\n",
        "        x = layers.Dropout(dropout_rate, name=f\"encoder_dropout_pre_latent_dense\")(x)\n",
        "\n",
        "    if mode == \"VAE\":\n",
        "      z_mean = layers.Dense(latent_dim, name=\"z_mean\")(x)\n",
        "      z_log_var = layers.Dense(latent_dim, name=\"z_log_var\")(x)\n",
        "      z = Sampling(name=\"latent_sample\")([z_mean, z_log_var])\n",
        "\n",
        "      encoder = keras.Model(encoder_inputs, [z_mean, z_log_var, z], name=\"encoder\")\n",
        "\n",
        "    else:\n",
        "      z = layers.Dense(latent_dim, name=\"z\")(x)\n",
        "      encoder = keras.Model(encoder_inputs, z, name=\"encoder\")\n",
        "\n",
        "    encoder.summary()\n",
        "\n",
        "    # Decoder\n",
        "    latent_inputs = keras.Input(shape=(latent_dim,), name=\"decoder_input\")\n",
        "    if pre_latent_dense_size_factor:\n",
        "        x = layers.Dense(latent_dim * pre_latent_dense_size_factor, name=\"decoder_post_latent_dense\")(latent_inputs)\n",
        "        x = layers.LeakyReLU(name=\"decoder_dense_LeakyReLU\")(x)\n",
        "        x = layers.Dropout(dropout_rate, name=f\"edecoder_dropout_post_latent_dense\")(x)\n",
        "        x = layers.Dense(num_neurons, name=\"decoder_upsize\")(x)\n",
        "    else:\n",
        "        x = layers.Dense(num_neurons, name=\"decoder_upsize\")(latent_inputs)\n",
        "\n",
        "    x = layers.LeakyReLU(name=\"decoder_pre_unflatten_LeakyReLU\")(x)\n",
        "    x = layers.Dropout(dropout_rate, name=f\"decoder_dropout_unflatten\")(x)\n",
        "    x = layers.Reshape(shape_before_bottleneck, name=\"decoder_unflatten\")(x)\n",
        "\n",
        "    residual_connections = []\n",
        "    for layer in range(num_layers - 1):\n",
        "        inverted_layer = num_layers - layer - 1\n",
        "        x = layers.Conv2DTranspose(conv_filters[inverted_layer], conv_kernels[inverted_layer], strides=conv_strides[inverted_layer], padding=\"same\", name=f\"decoder_conv_layer_{layer+1}\")(x)\n",
        "        x = layers.LeakyReLU(name=f\"decoder_LeakyReLU_{layer+1}\")(x)\n",
        "        \n",
        "        x = layers.Dropout(dropout_rate, name=f\"decoder_dropout_{layer+1}\")(x)\n",
        "\n",
        "        x = layers.BatchNormalization(name=f\"decoder_BN_{layer+1}\")(x)\n",
        "        if layer % 2 == 0:\n",
        "            residual_connections.append(x)\n",
        "\n",
        "        if layer % 2 == 1:\n",
        "            x_residual = layers.Conv2DTranspose(conv_filters[inverted_layer], 1, strides=conv_strides[inverted_layer], padding=\"same\", name=f\"decoder_residual_conv_{layer}\")(residual_connections.pop())\n",
        "            x = layers.Add(name=f\"decoder_residual_add_{layer}\")([x, x_residual])\n",
        "\n",
        "    decoder_outputs = layers.Conv2DTranspose(input_shape[-1], conv_kernels[0], activation=decoder_activation, strides=conv_strides[0], padding=\"same\", name=f\"decoder_output\")(x)\n",
        "    decoder = keras.Model(latent_inputs, decoder_outputs, name=\"decoder\")\n",
        "    decoder.summary()\n",
        "\n",
        "    return encoder, decoder"
      ],
      "metadata": {
        "id": "mWu8ydxOgu4I"
      },
      "execution_count": null,
      "outputs": []
    },
    {
      "cell_type": "code",
      "source": [
        "from tensorflow.keras.callbacks import Callback\n",
        "\n",
        "class CombinedMetricEarlyStopping(Callback):\n",
        "    def __init__(self, monitor=\"val_ssim\", mode=\"max\", patience=30, min_delta=0.01, restore_best_weights=True):\n",
        "        super().__init__()\n",
        "        self.monitor = monitor\n",
        "        self.mode = mode\n",
        "        self.patience = patience\n",
        "        self.min_delta = min_delta\n",
        "        self.restore_best_weights = restore_best_weights\n",
        "        self.wait = 0\n",
        "        self.stopped_epoch = 0\n",
        "        self.best_weights = None\n",
        "\n",
        "    def on_train_begin(self, logs=None):\n",
        "        self.best = float(\"-inf\") if self.mode == \"max\" else float(\"inf\")\n",
        "\n",
        "    def on_epoch_end(self, epoch, logs=None):\n",
        "        current = logs.get(self.monitor) \n",
        "        if current is None:\n",
        "            print(f\"Early stopping conditioned on metric `{self.monitor}` which is not available. Available metrics are: {','.join(list(logs.keys()))}\")\n",
        "            return\n",
        "\n",
        "        if self.mode == \"max\":\n",
        "          if current < self.best - self.min_delta*self.best: #give some slack\n",
        "            is_better = False\n",
        "          else:\n",
        "            is_better = current > self.best\n",
        "            \n",
        "        else:\n",
        "          if current > self.best + self.min_delta*self.best:\n",
        "            is_better = False\n",
        "          else:\n",
        "            is_better = current < self.best\n",
        "\n",
        "        if is_better:\n",
        "            print(\"saving best weights\")\n",
        "            print(f\"previous best={self.best}\")\n",
        "            print(f\"new best={current}\")\n",
        "            print(self.mode)\n",
        "            self.best = current\n",
        "            self.wait = 0\n",
        "            \n",
        "            \n",
        "\n",
        "            if self.restore_best_weights:\n",
        "                self.best_weights = self.model.get_weights()\n",
        "        else:\n",
        "            self.wait += 1\n",
        "            if self.wait >= self.patience:\n",
        "                self.stopped_epoch = epoch\n",
        "                self.model.stop_training = True\n",
        "                if self.restore_best_weights:\n",
        "                    self.model.set_weights(self.best_weights)\n",
        "\n",
        "    def on_train_end(self, logs=None):\n",
        "        if self.stopped_epoch > 0:\n",
        "            print(f\"Epoch {self.stopped_epoch + 1}: early stopping\")\n",
        "\n",
        "def pitch_weight(pitch, min_weight=1, max_weight=10):\n",
        "    min_hz, max_hz = 0, 4000\n",
        "    \n",
        "    # Convert pitch to frequency (Hz)\n",
        "    hz = 2**((pitch - 69) / 12) * 440\n",
        "    \n",
        "    # Scale weight based on frequency\n",
        "    weight_range = max_weight - min_weight\n",
        "    normalized_hz = 1 - (hz - min_hz) / (max_hz - min_hz)  # Flip the weights\n",
        "    weight = min_weight + (normalized_hz * weight_range)\n",
        "    return weight\n",
        "\n",
        "class VAE(keras.Model):\n",
        "    def __init__(self, encoder, decoder, loss_type=\"binary_crossentropy\", mode = \"VAE\", **kwargs):\n",
        "        super().__init__(**kwargs)\n",
        "        self.mode = mode\n",
        "        print(self.mode)\n",
        "        self.encoder = encoder\n",
        "        self.decoder = decoder\n",
        "        self.loss_type = loss_type\n",
        "        self.total_loss_tracker = keras.metrics.Mean(name=\"total_loss\")\n",
        "        self.reconstruction_loss_tracker = keras.metrics.Mean(\n",
        "            name=\"reconstruction_loss\"\n",
        "        )\n",
        "        self.kl_loss_tracker = keras.metrics.Mean(name=\"kl_loss\")\n",
        "        self.ssim_tracker = keras.metrics.Mean(name=\"ssim\")\n",
        "        self.combined_metric_tracker = keras.metrics.Mean(name=\"combined_kl_ssim\")\n",
        "\n",
        "    @property\n",
        "    def metrics(self):\n",
        "        return [\n",
        "            self.total_loss_tracker,\n",
        "            self.reconstruction_loss_tracker,\n",
        "            self.kl_loss_tracker,\n",
        "            self.ssim_tracker,\n",
        "        ]\n",
        "    def call(self, inputs):\n",
        "        if self.mode == \"VAE\":\n",
        "          z_mean, z_log_var, z = self.encoder(inputs)\n",
        "          reconstruction = self.decoder(z)\n",
        "          kl_loss = -0.5 * (\n",
        "                1 + z_log_var - tf.square(z_mean) - tf.exp(z_log_var)\n",
        "          )\n",
        "          kl_loss = tf.reduce_mean(tf.reduce_sum(kl_loss, axis=1))\n",
        "        else:\n",
        "          z = self.encoder(inputs)\n",
        "          reconstruction = self.decoder(z)\n",
        "          kl_loss = 0\n",
        "        return reconstruction, kl_loss\n",
        "\n",
        "    def train_step(self, data_and_labels):\n",
        "      \n",
        "      #reset just the combined and ssim tracker - better intuition to clear the huge values from first epoch..\n",
        "      self.combined_metric_tracker.reset_states()\n",
        "      #self.ssim_tracker.reset_states()\n",
        "\n",
        "      data, pitch_labels = data_and_labels\n",
        "      #print(data.shape)\n",
        "      #print(pitch_labels.shape)\n",
        "      with tf.GradientTape() as tape:\n",
        "        reconstruction, kl_loss = self(data)\n",
        "\n",
        "        if self.loss_type == \"binary_crossentropy\":\n",
        "            reconstruction_loss = keras.losses.binary_crossentropy(data, reconstruction)\n",
        "        elif self.loss_type == \"mean_squared_error\":\n",
        "            reconstruction_loss = keras.losses.mean_squared_error(data, reconstruction)\n",
        "        else:\n",
        "            raise ValueError(f\"Unsupported loss type: {self.loss_type}\")\n",
        "\n",
        "        # Scale the reconstruction loss by pitch-dependent weight - as the NSynth people did\n",
        "        pitch_weights = tf.vectorized_map(pitch_weight, pitch_labels)\n",
        "        pitch_weights = tf.expand_dims(pitch_weights, axis=-1)\n",
        "        #print(pitch_weights.shape)\n",
        "        #print(reconstruction_loss.shape)\n",
        "        weighted_reconstruction_loss = pitch_weights * reconstruction_loss\n",
        "\n",
        "        # reduce the losses\n",
        "        reconstruction_loss = tf.reduce_mean(\n",
        "            tf.reduce_sum(\n",
        "                reconstruction_loss,\n",
        "                axis=(1, 2),\n",
        "            )\n",
        "        )\n",
        "        weighted_reconstruction_loss = tf.reduce_mean(\n",
        "            tf.reduce_sum(\n",
        "                weighted_reconstruction_loss,\n",
        "                axis=(1, 2),\n",
        "            )\n",
        "        )\n",
        "        # combine the losses\n",
        "        if self.mode == \"VAE\":\n",
        "          total_loss = weighted_reconstruction_loss + 100 * kl_loss\n",
        "        else:\n",
        "          total_loss = weighted_reconstruction_loss\n",
        "\n",
        "        ## get ssim metrics\n",
        "        ssim = tf.reduce_mean(tf.image.ssim(data, reconstruction, max_val=1.0))\n",
        "        combined_kl_ssim_metric = 0.005 * kl_loss + 1 / ssim\n",
        "\n",
        "      grads = tape.gradient(total_loss, self.trainable_weights)\n",
        "      self.optimizer.apply_gradients(zip(grads, self.trainable_weights))\n",
        "      self.total_loss_tracker.update_state(total_loss)\n",
        "      self.reconstruction_loss_tracker.update_state(reconstruction_loss)\n",
        "      self.kl_loss_tracker.update_state(kl_loss)\n",
        "      self.ssim_tracker.update_state(ssim)\n",
        "      self.combined_metric_tracker.update_state(combined_kl_ssim_metric)\n",
        "      return {\n",
        "          \"loss\": self.total_loss_tracker.result(),\n",
        "          \"reconstruction_loss\": self.reconstruction_loss_tracker.result(),\n",
        "          \"kl_loss\": self.kl_loss_tracker.result(),\n",
        "          \"ssim\": self.ssim_tracker.result(),\n",
        "          \"combined_kl_ssim_metric\": self.combined_metric_tracker.result(),\n",
        "      }\n",
        "    \n",
        "    def test_step(self, data_and_labels):\n",
        "\n",
        "      #reset just the combined metric and ssim\n",
        "      self.combined_metric_tracker.reset_states()\n",
        "      #self.ssim_tracker.reset_states()\n",
        "      data, pitch_labels = data_and_labels\n",
        "\n",
        "      # Perform forward pass\n",
        "      reconstruction, kl_loss = self(data, training=False)\n",
        "\n",
        "      # Compute loss and metrics\n",
        "      if self.loss_type == \"binary_crossentropy\":\n",
        "          reconstruction_loss = keras.losses.binary_crossentropy(data, reconstruction)\n",
        "      elif self.loss_type == \"mean_squared_error\":\n",
        "          reconstruction_loss = keras.losses.mean_squared_error(data, reconstruction)\n",
        "      else:\n",
        "          raise ValueError(f\"Unsupported loss type: {self.loss_type}\")\n",
        "\n",
        "      # Scale the reconstruction loss by pitch-dependent weight - as the NSynth people did\n",
        "      pitch_weights = tf.vectorized_map(pitch_weight, pitch_labels)\n",
        "      pitch_weights = tf.expand_dims(pitch_weights, axis=-1)\n",
        "      #print(pitch_weights.shape)\n",
        "      #print(reconstruction_loss.shape)\n",
        "      weighted_reconstruction_loss = pitch_weights * reconstruction_loss\n",
        "\n",
        "      # reduce the losses\n",
        "      reconstruction_loss = tf.reduce_mean(\n",
        "          tf.reduce_sum(\n",
        "              reconstruction_loss,\n",
        "              axis=(1, 2),\n",
        "          )\n",
        "      )\n",
        "      weighted_reconstruction_loss = tf.reduce_mean(\n",
        "          tf.reduce_sum(\n",
        "              weighted_reconstruction_loss,\n",
        "              axis=(1, 2),\n",
        "          )\n",
        "      )\n",
        "      # combine the losses\n",
        "      if self.mode == \"VAE\":\n",
        "        total_loss = weighted_reconstruction_loss + 100 * kl_loss\n",
        "      else:\n",
        "        total_loss = weighted_reconstruction_loss\n",
        "\n",
        "      # get ssim metrics\n",
        "      ssim = tf.reduce_mean(tf.image.ssim(data, reconstruction, max_val=1.0))\n",
        "      combined_kl_ssim_metric = 0.005 * kl_loss + 1 / ssim\n",
        "\n",
        "      # Update validation metrics\n",
        "      self.total_loss_tracker.update_state(total_loss)\n",
        "      self.reconstruction_loss_tracker.update_state(reconstruction_loss)\n",
        "      self.kl_loss_tracker.update_state(kl_loss)\n",
        "      self.ssim_tracker.update_state(ssim)\n",
        "      self.combined_metric_tracker.update_state(combined_kl_ssim_metric)\n",
        "\n",
        "      return {\n",
        "          \"loss\": self.total_loss_tracker.result(),\n",
        "          \"reconstruction_loss\": self.reconstruction_loss_tracker.result(),\n",
        "          \"kl_loss\": self.kl_loss_tracker.result(),\n",
        "          \"ssim\": self.ssim_tracker.result(),\n",
        "          \"combined_kl_ssim_metric\": self.combined_metric_tracker.result(),\n",
        "      }\n"
      ],
      "metadata": {
        "id": "9_p4Jo6VgyCm"
      },
      "execution_count": null,
      "outputs": []
    },
    {
      "cell_type": "code",
      "source": [
        "def load_VAE(VAE_parameters_file = \"/content/drive/MyDrive/Variational_Auto_Encoder/Acoustic_default_weights_path/default_VAE_parameters.pkl\",\n",
        "             encoder_weights_file = \"/content/drive/MyDrive/Variational_Auto_Encoder/Acoustic_default_weights_path/default_encoder_weights.h5\",\n",
        "             decoder_weights_file = \"/content/drive/MyDrive/Variational_Auto_Encoder/Acoustic_default_weights_path/default_decoder_weights.h5\",\n",
        "             history_file = \"/content/drive/MyDrive/Variational_Auto_Encoder/Acoustic_default_weights_path/default_history.pkl\"\n",
        "             ):\n",
        "  \n",
        "    with open(VAE_parameters_file, \"rb\") as f:\n",
        "        parameters = pickle.load(f)\n",
        "        \n",
        "        input_shape = parameters[0]\n",
        "        conv_filters = parameters[1]\n",
        "        conv_kernels = parameters[2]\n",
        "        conv_strides = parameters[3]\n",
        "        latent_dim = parameters[4]\n",
        "        pre_latent_dense_size_factor = parameters[5]\n",
        "\n",
        "        #account for some older parameter files not having last values\n",
        "        if len(parameters) < 7: #if dont have decoder activation function\n",
        "          decoder_activation = \"sigmoid\" #assume sigmoid\n",
        "        else:\n",
        "          decoder_activation = parameters[6]\n",
        "\n",
        "    encoder,decoder = build_encoder_decoder(input_shape,conv_filters,conv_kernels,conv_strides,latent_dim,pre_latent_dense_size_factor,decoder_activation)\n",
        "    loaded_vae = VAE(encoder,decoder)\n",
        "\n",
        "    loaded_vae.encoder.load_weights(encoder_weights_file)\n",
        "    loaded_vae.decoder.load_weights(decoder_weights_file)\n",
        "\n",
        "    with open(history_file, \"rb\") as f:\n",
        "        history = pickle.load(f)\n",
        "\n",
        "    return loaded_vae, parameters, history, latent_dim\n"
      ],
      "metadata": {
        "id": "CFkgtxo_gqnN"
      },
      "execution_count": null,
      "outputs": []
    },
    {
      "cell_type": "code",
      "source": [
        "VAE_parameters_file = \"/content/drive/MyDrive/Variational_Auto_Encoder/Acoustic_log_spec_weights/VAE2023-04-21_23-38_parameters.pkl\"\n",
        "encoder_weights_file = \"/content/drive/MyDrive/Variational_Auto_Encoder/Acoustic_log_spec_weights/encoder2023-04-21_23-38_weights.h5\"\n",
        "decoder_weights_file = \"/content/drive/MyDrive/Variational_Auto_Encoder/Acoustic_log_spec_weights/decoder2023-04-21_23-38_weights.h5\"\n",
        "history_file = \"/content/drive/MyDrive/Variational_Auto_Encoder/Acoustic_default_weights_path/default_history.pkl\"\n",
        "vae,parameters,history,latent_dim = load_VAE(\n",
        "  VAE_parameters_file,\n",
        "  encoder_weights_file,\n",
        "  decoder_weights_file,\n",
        "  history_file\n",
        "  )"
      ],
      "metadata": {
        "colab": {
          "base_uri": "https://localhost:8080/"
        },
        "id": "KB0Q15stjlip",
        "outputId": "31f066a8-de4c-4fb6-8fcf-d81a77c5f774"
      },
      "execution_count": null,
      "outputs": [
        {
          "output_type": "stream",
          "name": "stdout",
          "text": [
            "buildmode\n",
            "VAE\n",
            "Model: \"encoder\"\n",
            "__________________________________________________________________________________________________\n",
            " Layer (type)                   Output Shape         Param #     Connected to                     \n",
            "==================================================================================================\n",
            " encoder_input (InputLayer)     [(None, 1024, 192,   0           []                               \n",
            "                                1)]                                                               \n",
            "                                                                                                  \n",
            " encoder_conv_layer_1 (Conv2D)  (None, 512, 96, 64)  1664        ['encoder_input[0][0]']          \n",
            "                                                                                                  \n",
            " encoder_LeakyReLU_1 (LeakyReLU  (None, 512, 96, 64)  0          ['encoder_conv_layer_1[0][0]']   \n",
            " )                                                                                                \n",
            "                                                                                                  \n",
            " encoder_dropout_1 (Dropout)    (None, 512, 96, 64)  0           ['encoder_LeakyReLU_1[0][0]']    \n",
            "                                                                                                  \n",
            " encoder_BN_1 (BatchNormalizati  (None, 512, 96, 64)  256        ['encoder_dropout_1[0][0]']      \n",
            " on)                                                                                              \n",
            "                                                                                                  \n",
            " encoder_conv_layer_2 (Conv2D)  (None, 256, 48, 64)  65600       ['encoder_BN_1[0][0]']           \n",
            "                                                                                                  \n",
            " encoder_LeakyReLU_2 (LeakyReLU  (None, 256, 48, 64)  0          ['encoder_conv_layer_2[0][0]']   \n",
            " )                                                                                                \n",
            "                                                                                                  \n",
            " encoder_dropout_2 (Dropout)    (None, 256, 48, 64)  0           ['encoder_LeakyReLU_2[0][0]']    \n",
            "                                                                                                  \n",
            " encoder_BN_2 (BatchNormalizati  (None, 256, 48, 64)  256        ['encoder_dropout_2[0][0]']      \n",
            " on)                                                                                              \n",
            "                                                                                                  \n",
            " encoder_residual_conv_1 (Conv2  (None, 256, 48, 64)  4160       ['encoder_BN_1[0][0]']           \n",
            " D)                                                                                               \n",
            "                                                                                                  \n",
            " encoder_residual_add_1 (Add)   (None, 256, 48, 64)  0           ['encoder_BN_2[0][0]',           \n",
            "                                                                  'encoder_residual_conv_1[0][0]']\n",
            "                                                                                                  \n",
            " encoder_conv_layer_3 (Conv2D)  (None, 128, 24, 128  131200      ['encoder_residual_add_1[0][0]'] \n",
            "                                )                                                                 \n",
            "                                                                                                  \n",
            " encoder_LeakyReLU_3 (LeakyReLU  (None, 128, 24, 128  0          ['encoder_conv_layer_3[0][0]']   \n",
            " )                              )                                                                 \n",
            "                                                                                                  \n",
            " encoder_dropout_3 (Dropout)    (None, 128, 24, 128  0           ['encoder_LeakyReLU_3[0][0]']    \n",
            "                                )                                                                 \n",
            "                                                                                                  \n",
            " encoder_BN_3 (BatchNormalizati  (None, 128, 24, 128  512        ['encoder_dropout_3[0][0]']      \n",
            " on)                            )                                                                 \n",
            "                                                                                                  \n",
            " encoder_conv_layer_4 (Conv2D)  (None, 64, 12, 128)  262272      ['encoder_BN_3[0][0]']           \n",
            "                                                                                                  \n",
            " encoder_LeakyReLU_4 (LeakyReLU  (None, 64, 12, 128)  0          ['encoder_conv_layer_4[0][0]']   \n",
            " )                                                                                                \n",
            "                                                                                                  \n",
            " encoder_dropout_4 (Dropout)    (None, 64, 12, 128)  0           ['encoder_LeakyReLU_4[0][0]']    \n",
            "                                                                                                  \n",
            " encoder_BN_4 (BatchNormalizati  (None, 64, 12, 128)  512        ['encoder_dropout_4[0][0]']      \n",
            " on)                                                                                              \n",
            "                                                                                                  \n",
            " encoder_residual_conv_3 (Conv2  (None, 64, 12, 128)  16512      ['encoder_BN_3[0][0]']           \n",
            " D)                                                                                               \n",
            "                                                                                                  \n",
            " encoder_residual_add_3 (Add)   (None, 64, 12, 128)  0           ['encoder_BN_4[0][0]',           \n",
            "                                                                  'encoder_residual_conv_3[0][0]']\n",
            "                                                                                                  \n",
            " encoder_conv_layer_5 (Conv2D)  (None, 32, 6, 256)   524544      ['encoder_residual_add_3[0][0]'] \n",
            "                                                                                                  \n",
            " encoder_LeakyReLU_5 (LeakyReLU  (None, 32, 6, 256)  0           ['encoder_conv_layer_5[0][0]']   \n",
            " )                                                                                                \n",
            "                                                                                                  \n",
            " encoder_dropout_5 (Dropout)    (None, 32, 6, 256)   0           ['encoder_LeakyReLU_5[0][0]']    \n",
            "                                                                                                  \n",
            " encoder_BN_5 (BatchNormalizati  (None, 32, 6, 256)  1024        ['encoder_dropout_5[0][0]']      \n",
            " on)                                                                                              \n",
            "                                                                                                  \n",
            " encoder_conv_layer_6 (Conv2D)  (None, 16, 6, 256)   1048832     ['encoder_BN_5[0][0]']           \n",
            "                                                                                                  \n",
            " encoder_LeakyReLU_6 (LeakyReLU  (None, 16, 6, 256)  0           ['encoder_conv_layer_6[0][0]']   \n",
            " )                                                                                                \n",
            "                                                                                                  \n",
            " encoder_dropout_6 (Dropout)    (None, 16, 6, 256)   0           ['encoder_LeakyReLU_6[0][0]']    \n",
            "                                                                                                  \n",
            " encoder_BN_6 (BatchNormalizati  (None, 16, 6, 256)  1024        ['encoder_dropout_6[0][0]']      \n",
            " on)                                                                                              \n",
            "                                                                                                  \n",
            " encoder_residual_conv_5 (Conv2  (None, 16, 6, 256)  65792       ['encoder_BN_5[0][0]']           \n",
            " D)                                                                                               \n",
            "                                                                                                  \n",
            " encoder_residual_add_5 (Add)   (None, 16, 6, 256)   0           ['encoder_BN_6[0][0]',           \n",
            "                                                                  'encoder_residual_conv_5[0][0]']\n",
            "                                                                                                  \n",
            " encoder_conv_layer_7 (Conv2D)  (None, 16, 6, 512)   131584      ['encoder_residual_add_5[0][0]'] \n",
            "                                                                                                  \n",
            " encoder_LeakyReLU_7 (LeakyReLU  (None, 16, 6, 512)  0           ['encoder_conv_layer_7[0][0]']   \n",
            " )                                                                                                \n",
            "                                                                                                  \n",
            " encoder_dropout_7 (Dropout)    (None, 16, 6, 512)   0           ['encoder_LeakyReLU_7[0][0]']    \n",
            "                                                                                                  \n",
            " encoder_BN_7 (BatchNormalizati  (None, 16, 6, 512)  2048        ['encoder_dropout_7[0][0]']      \n",
            " on)                                                                                              \n",
            "                                                                                                  \n",
            " encoder_flatten (Flatten)      (None, 49152)        0           ['encoder_BN_7[0][0]']           \n",
            "                                                                                                  \n",
            " encoder_flattened_LeakyReLU (L  (None, 49152)       0           ['encoder_flatten[0][0]']        \n",
            " eakyReLU)                                                                                        \n",
            "                                                                                                  \n",
            " encoder_dropout_flatten (Dropo  (None, 49152)       0           ['encoder_flattened_LeakyReLU[0][\n",
            " ut)                                                             0]']                             \n",
            "                                                                                                  \n",
            " z_mean (Dense)                 (None, 8)            393224      ['encoder_dropout_flatten[0][0]']\n",
            "                                                                                                  \n",
            " z_log_var (Dense)              (None, 8)            393224      ['encoder_dropout_flatten[0][0]']\n",
            "                                                                                                  \n",
            " latent_sample (Sampling)       (None, 8)            0           ['z_mean[0][0]',                 \n",
            "                                                                  'z_log_var[0][0]']              \n",
            "                                                                                                  \n",
            "==================================================================================================\n",
            "Total params: 3,044,240\n",
            "Trainable params: 3,041,424\n",
            "Non-trainable params: 2,816\n",
            "__________________________________________________________________________________________________\n",
            "Model: \"decoder\"\n",
            "__________________________________________________________________________________________________\n",
            " Layer (type)                   Output Shape         Param #     Connected to                     \n",
            "==================================================================================================\n",
            " decoder_input (InputLayer)     [(None, 8)]          0           []                               \n",
            "                                                                                                  \n",
            " decoder_upsize (Dense)         (None, 49152)        442368      ['decoder_input[0][0]']          \n",
            "                                                                                                  \n",
            " decoder_pre_unflatten_LeakyReL  (None, 49152)       0           ['decoder_upsize[0][0]']         \n",
            " U (LeakyReLU)                                                                                    \n",
            "                                                                                                  \n",
            " decoder_dropout_unflatten (Dro  (None, 49152)       0           ['decoder_pre_unflatten_LeakyReLU\n",
            " pout)                                                           [0][0]']                         \n",
            "                                                                                                  \n",
            " decoder_unflatten (Reshape)    (None, 16, 6, 512)   0           ['decoder_dropout_unflatten[0][0]\n",
            "                                                                 ']                               \n",
            "                                                                                                  \n",
            " decoder_conv_layer_1 (Conv2DTr  (None, 16, 6, 512)  262656      ['decoder_unflatten[0][0]']      \n",
            " anspose)                                                                                         \n",
            "                                                                                                  \n",
            " decoder_LeakyReLU_1 (LeakyReLU  (None, 16, 6, 512)  0           ['decoder_conv_layer_1[0][0]']   \n",
            " )                                                                                                \n",
            "                                                                                                  \n",
            " decoder_dropout_1 (Dropout)    (None, 16, 6, 512)   0           ['decoder_LeakyReLU_1[0][0]']    \n",
            "                                                                                                  \n",
            " decoder_BN_1 (BatchNormalizati  (None, 16, 6, 512)  2048        ['decoder_dropout_1[0][0]']      \n",
            " on)                                                                                              \n",
            "                                                                                                  \n",
            " decoder_conv_layer_2 (Conv2DTr  (None, 32, 6, 256)  2097408     ['decoder_BN_1[0][0]']           \n",
            " anspose)                                                                                         \n",
            "                                                                                                  \n",
            " decoder_LeakyReLU_2 (LeakyReLU  (None, 32, 6, 256)  0           ['decoder_conv_layer_2[0][0]']   \n",
            " )                                                                                                \n",
            "                                                                                                  \n",
            " decoder_dropout_2 (Dropout)    (None, 32, 6, 256)   0           ['decoder_LeakyReLU_2[0][0]']    \n",
            "                                                                                                  \n",
            " decoder_BN_2 (BatchNormalizati  (None, 32, 6, 256)  1024        ['decoder_dropout_2[0][0]']      \n",
            " on)                                                                                              \n",
            "                                                                                                  \n",
            " decoder_residual_conv_1 (Conv2  (None, 32, 6, 256)  131328      ['decoder_BN_1[0][0]']           \n",
            " DTranspose)                                                                                      \n",
            "                                                                                                  \n",
            " decoder_residual_add_1 (Add)   (None, 32, 6, 256)   0           ['decoder_BN_2[0][0]',           \n",
            "                                                                  'decoder_residual_conv_1[0][0]']\n",
            "                                                                                                  \n",
            " decoder_conv_layer_3 (Conv2DTr  (None, 64, 12, 256)  1048832    ['decoder_residual_add_1[0][0]'] \n",
            " anspose)                                                                                         \n",
            "                                                                                                  \n",
            " decoder_LeakyReLU_3 (LeakyReLU  (None, 64, 12, 256)  0          ['decoder_conv_layer_3[0][0]']   \n",
            " )                                                                                                \n",
            "                                                                                                  \n",
            " decoder_dropout_3 (Dropout)    (None, 64, 12, 256)  0           ['decoder_LeakyReLU_3[0][0]']    \n",
            "                                                                                                  \n",
            " decoder_BN_3 (BatchNormalizati  (None, 64, 12, 256)  1024       ['decoder_dropout_3[0][0]']      \n",
            " on)                                                                                              \n",
            "                                                                                                  \n",
            " decoder_conv_layer_4 (Conv2DTr  (None, 128, 24, 128  524416     ['decoder_BN_3[0][0]']           \n",
            " anspose)                       )                                                                 \n",
            "                                                                                                  \n",
            " decoder_LeakyReLU_4 (LeakyReLU  (None, 128, 24, 128  0          ['decoder_conv_layer_4[0][0]']   \n",
            " )                              )                                                                 \n",
            "                                                                                                  \n",
            " decoder_dropout_4 (Dropout)    (None, 128, 24, 128  0           ['decoder_LeakyReLU_4[0][0]']    \n",
            "                                )                                                                 \n",
            "                                                                                                  \n",
            " decoder_BN_4 (BatchNormalizati  (None, 128, 24, 128  512        ['decoder_dropout_4[0][0]']      \n",
            " on)                            )                                                                 \n",
            "                                                                                                  \n",
            " decoder_residual_conv_3 (Conv2  (None, 128, 24, 128  32896      ['decoder_BN_3[0][0]']           \n",
            " DTranspose)                    )                                                                 \n",
            "                                                                                                  \n",
            " decoder_residual_add_3 (Add)   (None, 128, 24, 128  0           ['decoder_BN_4[0][0]',           \n",
            "                                )                                 'decoder_residual_conv_3[0][0]']\n",
            "                                                                                                  \n",
            " decoder_conv_layer_5 (Conv2DTr  (None, 256, 48, 128  262272     ['decoder_residual_add_3[0][0]'] \n",
            " anspose)                       )                                                                 \n",
            "                                                                                                  \n",
            " decoder_LeakyReLU_5 (LeakyReLU  (None, 256, 48, 128  0          ['decoder_conv_layer_5[0][0]']   \n",
            " )                              )                                                                 \n",
            "                                                                                                  \n",
            " decoder_dropout_5 (Dropout)    (None, 256, 48, 128  0           ['decoder_LeakyReLU_5[0][0]']    \n",
            "                                )                                                                 \n",
            "                                                                                                  \n",
            " decoder_BN_5 (BatchNormalizati  (None, 256, 48, 128  512        ['decoder_dropout_5[0][0]']      \n",
            " on)                            )                                                                 \n",
            "                                                                                                  \n",
            " decoder_conv_layer_6 (Conv2DTr  (None, 512, 96, 64)  131136     ['decoder_BN_5[0][0]']           \n",
            " anspose)                                                                                         \n",
            "                                                                                                  \n",
            " decoder_LeakyReLU_6 (LeakyReLU  (None, 512, 96, 64)  0          ['decoder_conv_layer_6[0][0]']   \n",
            " )                                                                                                \n",
            "                                                                                                  \n",
            " decoder_dropout_6 (Dropout)    (None, 512, 96, 64)  0           ['decoder_LeakyReLU_6[0][0]']    \n",
            "                                                                                                  \n",
            " decoder_BN_6 (BatchNormalizati  (None, 512, 96, 64)  256        ['decoder_dropout_6[0][0]']      \n",
            " on)                                                                                              \n",
            "                                                                                                  \n",
            " decoder_residual_conv_5 (Conv2  (None, 512, 96, 64)  8256       ['decoder_BN_5[0][0]']           \n",
            " DTranspose)                                                                                      \n",
            "                                                                                                  \n",
            " decoder_residual_add_5 (Add)   (None, 512, 96, 64)  0           ['decoder_BN_6[0][0]',           \n",
            "                                                                  'decoder_residual_conv_5[0][0]']\n",
            "                                                                                                  \n",
            " decoder_output (Conv2DTranspos  (None, 1024, 192, 1  1601       ['decoder_residual_add_5[0][0]'] \n",
            " e)                             )                                                                 \n",
            "                                                                                                  \n",
            "==================================================================================================\n",
            "Total params: 4,948,545\n",
            "Trainable params: 4,945,857\n",
            "Non-trainable params: 2,688\n",
            "__________________________________________________________________________________________________\n",
            "VAE\n"
          ]
        }
      ]
    },
    {
      "cell_type": "code",
      "execution_count": null,
      "metadata": {
        "colab": {
          "base_uri": "https://localhost:8080/"
        },
        "id": "KKHf98RHgcQT",
        "outputId": "e9bf31b8-a1e1-46a9-84fc-35cf91093aaf"
      },
      "outputs": [
        {
          "output_type": "stream",
          "name": "stdout",
          "text": [
            "1/1 [==============================] - 0s 498ms/step\n"
          ]
        },
        {
          "output_type": "stream",
          "name": "stderr",
          "text": [
            "100%|██████████| 100/100 [00:04<00:00, 23.40it/s]\n"
          ]
        },
        {
          "output_type": "stream",
          "name": "stdout",
          "text": [
            "1/1 [==============================] - 0s 390ms/step\n"
          ]
        },
        {
          "output_type": "stream",
          "name": "stderr",
          "text": [
            "100%|██████████| 100/100 [00:05<00:00, 18.59it/s]\n"
          ]
        },
        {
          "output_type": "stream",
          "name": "stdout",
          "text": [
            "1/1 [==============================] - 0s 371ms/step\n"
          ]
        },
        {
          "output_type": "stream",
          "name": "stderr",
          "text": [
            "100%|██████████| 100/100 [00:03<00:00, 26.87it/s]\n"
          ]
        },
        {
          "output_type": "stream",
          "name": "stdout",
          "text": [
            "1/1 [==============================] - 0s 241ms/step\n"
          ]
        },
        {
          "output_type": "stream",
          "name": "stderr",
          "text": [
            "100%|██████████| 100/100 [00:04<00:00, 24.82it/s]\n"
          ]
        },
        {
          "output_type": "stream",
          "name": "stdout",
          "text": [
            "1/1 [==============================] - 0s 283ms/step\n"
          ]
        },
        {
          "output_type": "stream",
          "name": "stderr",
          "text": [
            "100%|██████████| 100/100 [00:04<00:00, 21.23it/s]\n"
          ]
        },
        {
          "output_type": "stream",
          "name": "stdout",
          "text": [
            "1/1 [==============================] - 0s 421ms/step\n"
          ]
        },
        {
          "output_type": "stream",
          "name": "stderr",
          "text": [
            "100%|██████████| 100/100 [00:04<00:00, 22.35it/s]\n"
          ]
        },
        {
          "output_type": "stream",
          "name": "stdout",
          "text": [
            "1/1 [==============================] - 0s 238ms/step\n"
          ]
        },
        {
          "output_type": "stream",
          "name": "stderr",
          "text": [
            "100%|██████████| 100/100 [00:03<00:00, 26.94it/s]\n"
          ]
        },
        {
          "output_type": "stream",
          "name": "stdout",
          "text": [
            "1/1 [==============================] - 0s 250ms/step\n"
          ]
        },
        {
          "output_type": "stream",
          "name": "stderr",
          "text": [
            "100%|██████████| 100/100 [00:03<00:00, 26.05it/s]\n"
          ]
        },
        {
          "output_type": "stream",
          "name": "stdout",
          "text": [
            "1/1 [==============================] - 0s 410ms/step\n"
          ]
        },
        {
          "output_type": "stream",
          "name": "stderr",
          "text": [
            "100%|██████████| 100/100 [00:06<00:00, 15.98it/s]\n"
          ]
        },
        {
          "output_type": "stream",
          "name": "stdout",
          "text": [
            "1/1 [==============================] - 0s 258ms/step\n"
          ]
        },
        {
          "output_type": "stream",
          "name": "stderr",
          "text": [
            "100%|██████████| 100/100 [00:03<00:00, 26.25it/s]\n"
          ]
        },
        {
          "output_type": "stream",
          "name": "stdout",
          "text": [
            "1/1 [==============================] - 0s 238ms/step\n"
          ]
        },
        {
          "output_type": "stream",
          "name": "stderr",
          "text": [
            "100%|██████████| 100/100 [00:03<00:00, 26.74it/s]\n"
          ]
        }
      ],
      "source": [
        "import numpy as np\n",
        "import librosa\n",
        "import soundfile as sf\n",
        "from tqdm import tqdm\n",
        "\n",
        "# Define the range and step size for the first latent dimension\n",
        "latent_1_range = np.arange(-10, 12, 2)\n",
        "\n",
        "# Define the remaining latent dimensions (assuming they are 7 in total)\n",
        "latent_dims = 8\n",
        "samplerate = 16000\n",
        "hop_length = 256\n",
        "n_fft = 2048\n",
        "n_iter = 100\n",
        "\n",
        "for i, latent_1_val in enumerate(latent_1_range): #keeping all other at 0\n",
        "    # Generate the latent vector\n",
        "    latent_vec = np.zeros((1,latent_dims))\n",
        "    latent_vec[:,7] = latent_1_val\n",
        "\n",
        "\n",
        "    # Generate the spectrogram\n",
        "    spectrogram = vae.decoder.predict(latent_vec)[0]\n",
        "    spectrogram = np.squeeze(spectrogram)\n",
        "    # Convert the spectrogram to a sound using Griffon Lim\n",
        "    phase = np.random.rand(*spectrogram.shape)\n",
        "    for _ in tqdm(range(n_iter),total=n_iter):\n",
        "        spec = spectrogram * np.exp(1j * phase)\n",
        "        sound = librosa.istft(spec, n_fft = n_fft, hop_length=hop_length)\n",
        "        phase = np.angle(librosa.stft(sound, n_fft=2048, hop_length=hop_length, center = True)[:-1])\n",
        "    \n",
        "    # Normalize the sound to [-1, 1]\n",
        "    sound = sound / np.max(np.abs(sound))\n",
        "    \n",
        "    # Save the sound as a .wav file\n",
        "    filename = f\"/content/drive/MyDrive/Variational_Auto_Encoder/latentspaceexplo/varylatent8/latent8is{latent_1_val}.wav\"\n",
        "    sf.write(filename, sound, samplerate)\n"
      ]
    },
    {
      "cell_type": "code",
      "source": [
        "help(tqdm)"
      ],
      "metadata": {
        "id": "AC1hHT91gjTn"
      },
      "execution_count": null,
      "outputs": []
    },
    {
      "cell_type": "code",
      "source": [
        "latent_vec = np.zeros((1,latent_dims))\n",
        "latent_vec[:,3] = 10\n",
        "\n",
        "\n",
        "# Generate the spectrogram\n",
        "spectrogram = vae.decoder.predict(latent_vec)[0]\n",
        "spectrogram = np.squeeze(spectrogram)\n",
        "# Convert the spectrogram to a sound using Griffon Lim\n",
        "phase = np.random.rand(*spectrogram.shape)\n",
        "for _ in tqdm(range(n_iter),total=n_iter):\n",
        "    spec = spectrogram * np.exp(1j * phase)\n",
        "    sound = librosa.istft(spec, n_fft = n_fft, hop_length=hop_length)\n",
        "    phase = np.angle(librosa.stft(sound, n_fft=2048, hop_length=hop_length, center = True)[:-1])"
      ],
      "metadata": {
        "colab": {
          "base_uri": "https://localhost:8080/"
        },
        "id": "Qz20NdT1ge_a",
        "outputId": "32e07c94-52ea-4b13-88e0-9fe595be5fba"
      },
      "execution_count": null,
      "outputs": [
        {
          "output_type": "stream",
          "name": "stdout",
          "text": [
            "1/1 [==============================] - 0s 367ms/step\n"
          ]
        },
        {
          "output_type": "stream",
          "name": "stderr",
          "text": [
            "100%|██████████| 100/100 [00:05<00:00, 18.34it/s]\n"
          ]
        }
      ]
    },
    {
      "cell_type": "code",
      "source": [
        "import matplotlib.pyplot as plt\n",
        "plt.axis(\"off\")\n",
        "plt.imshow(np.transpose(spectrogram), origin='lower')"
      ],
      "metadata": {
        "colab": {
          "base_uri": "https://localhost:8080/",
          "height": 146
        },
        "id": "_5mpnke_uXdm",
        "outputId": "d4077306-9ee6-4bd1-b2c9-cf0fa6b2fc03"
      },
      "execution_count": null,
      "outputs": [
        {
          "output_type": "execute_result",
          "data": {
            "text/plain": [
              "<matplotlib.image.AxesImage at 0x7f38e6105f40>"
            ]
          },
          "metadata": {},
          "execution_count": 48
        },
        {
          "output_type": "display_data",
          "data": {
            "text/plain": [
              "<Figure size 640x480 with 1 Axes>"
            ],
            "image/png": "[encoded data removed]"
          },
          "metadata": {}
        }
      ]
    }
  ]
}