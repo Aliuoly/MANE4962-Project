{
 "cells": [
  {
   "cell_type": "code",
   "execution_count": 1,
   "id": "c46a498a-ada3-49f2-90d7-807f2aa6cdd7",
   "metadata": {},
   "outputs": [],
   "source": [
    "import matplotlib.pyplot as plt\n",
    "import numpy as np\n",
    "import pandas as pd\n",
    "import tensorflow as tf\n",
    "from tensorflow.keras.models import Model\n",
    "from tensorflow.keras.layers import Dense,Conv2D,ReLU,BatchNormalization,Flatten\n"
   ]
  },
  {
   "cell_type": "code",
   "execution_count": 3,
   "id": "887ecd58-bce7-4ac4-8527-a7ad49f566fc",
   "metadata": {},
   "outputs": [],
   "source": [
    "latent_dim = 64 \n",
    "\n",
    "class Autoencoder(self,input_shape,conv_filters,conv_kernels,conv_strides,latent_space_dim):\n",
    "    def __init__(self, latent_dim):\n",
    "        \n",
    "\n",
    "    def _built_encoder():\n",
    "        \n",
    "    def _add_encoder_input():\n",
    "        \n",
    "    def _add_encoder_layers():\n",
    "        \n",
    "    def _add_encoder_layer():\n",
    "        \n",
    "    def _add_bottleneck():\n"
   ]
  },
  {
   "cell_type": "code",
   "execution_count": null,
   "id": "4f9b60cc-6b25-455a-bc36-3ef27e21b193",
   "metadata": {},
   "outputs": [],
   "source": []
  }
 ],
 "metadata": {
  "kernelspec": {
   "display_name": "Python 3 (ipykernel)",
   "language": "python",
   "name": "python3"
  },
  "language_info": {
   "codemirror_mode": {
    "name": "ipython",
    "version": 3
   },
   "file_extension": ".py",
   "mimetype": "text/x-python",
   "name": "python",
   "nbconvert_exporter": "python",
   "pygments_lexer": "ipython3",
   "version": "3.9.13"
  }
 },
 "nbformat": 4,
 "nbformat_minor": 5
}
